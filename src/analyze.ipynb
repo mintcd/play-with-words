{
  "cells": [
    {
      "cell_type": "code",
      "execution_count": 2,
      "metadata": {
        "id": "NInWPV9KYuXx"
      },
      "outputs": [],
      "source": [
        "import requests\n",
        "from bs4 import BeautifulSoup\n",
        "import json\n",
        "import threading\n",
        "import re\n",
        "import numpy as np\n",
        "from functools import reduce\n",
        "from multiprocessing import Pool\n",
        "from itertools import combinations\n",
        "from time import time\n",
        "import zipfile\n",
        "import networkx as nx\n",
        "import matplotlib.pyplot as plt"
      ]
    },
    {
      "cell_type": "markdown",
      "metadata": {},
      "source": [
        "# Utils"
      ]
    },
    {
      "cell_type": "code",
      "execution_count": 3,
      "metadata": {},
      "outputs": [],
      "source": [
        "def read_json_from_zip(zip_file_path, json_file_name):\n",
        "    \"\"\"\n",
        "    Function to read a JSON file from a ZIP archive.\n",
        "\n",
        "    Parameters:\n",
        "        zip_file_path (str): Path to the ZIP archive.\n",
        "        json_file_name (str): Name of the JSON file within the ZIP archive.\n",
        "\n",
        "    Returns:\n",
        "        dict: Dictionary containing the JSON data.\n",
        "    \"\"\"\n",
        "    try:\n",
        "        # Open the zip file\n",
        "        with zipfile.ZipFile(zip_file_path, 'r') as zip_ref:\n",
        "            # Extract the JSON file from the zip archive\n",
        "            with zip_ref.open(json_file_name) as json_file:\n",
        "                # Read the JSON data\n",
        "                json_data = json.load(json_file)\n",
        "        return json_data\n",
        "    except Exception as e:\n",
        "        print(f\"Error reading JSON from ZIP: {e}\")\n",
        "        return None"
      ]
    },
    {
      "cell_type": "code",
      "execution_count": 4,
      "metadata": {},
      "outputs": [],
      "source": [
        "def split_words(text):\n",
        "    pattern = r\"\\b\\w+(?:'\\w+)?\\b|\\w+\"\n",
        "    return re.findall(pattern, text)"
      ]
    },
    {
      "cell_type": "code",
      "execution_count": 5,
      "metadata": {
        "id": "GuSs2EcaKFn0"
      },
      "outputs": [],
      "source": [
        "def print_key_structure(d, indent=0):\n",
        "    for key, value in d.items():\n",
        "        print('  ' * indent + str(key))\n",
        "        if isinstance(value, dict):\n",
        "            print_key_structure(value, indent + 1)"
      ]
    },
    {
      "cell_type": "markdown",
      "metadata": {},
      "source": [
        "# Wordup Analysis"
      ]
    },
    {
      "cell_type": "code",
      "execution_count": 6,
      "metadata": {
        "id": "65eRujhDKdX7"
      },
      "outputs": [],
      "source": [
        "def lookup(word, wordup):\n",
        "  for ele in wordup:\n",
        "    if ele['root'] == word.lower(): return ele\n",
        "  return None"
      ]
    },
    {
      "cell_type": "code",
      "execution_count": 7,
      "metadata": {
        "id": "1Jcq-xB5O6aI"
      },
      "outputs": [],
      "source": [
        "def find_maximal_complete_graphs(edges):\n",
        "    nodes = set()\n",
        "    for edge in edges:\n",
        "        nodes.update(edge)\n",
        "    nodes = sorted(nodes)\n",
        "\n",
        "    adjacency_dict = {node: set() for node in nodes}\n",
        "    for edge in edges:\n",
        "        node1, node2 = edge\n",
        "        adjacency_dict[node1].add(node2)\n",
        "        adjacency_dict[node2].add(node1)\n",
        "\n",
        "    visited = set()\n",
        "    maximal_complete_graphs = []\n",
        "\n",
        "    for node in nodes:\n",
        "        if node not in visited:\n",
        "            queue = [node]\n",
        "            component = set()\n",
        "            while queue:\n",
        "                current = queue.pop(0)\n",
        "                visited.add(current)\n",
        "                component.add(current)\n",
        "                neighbors = adjacency_dict[current]\n",
        "                for neighbor in neighbors:\n",
        "                    if neighbor not in visited:\n",
        "                        queue.append(neighbor)\n",
        "            maximal_complete_graphs.append(component)\n",
        "\n",
        "    return maximal_complete_graphs"
      ]
    },
    {
      "cell_type": "code",
      "execution_count": 11,
      "metadata": {},
      "outputs": [],
      "source": [
        "wordup = read_json_from_zip(\"D:\\Projects\\play-with-words\\wordup_processed.zip\", \"wordup_processed.json\")"
      ]
    },
    {
      "cell_type": "code",
      "execution_count": 14,
      "metadata": {},
      "outputs": [],
      "source": [
        "def get_all_words(wordup):\n",
        "  words = set()\n",
        "  for word_def in wordup:\n",
        "    words.add(word_def['root'])\n",
        "    for sense in word_def['senses']:\n",
        "      words.update([ele.lower() for ele in split_words(sense['de'])])\n",
        "  return words"
      ]
    },
    {
      "cell_type": "code",
      "execution_count": 12,
      "metadata": {},
      "outputs": [],
      "source": [
        "def get_dependencies(wordup, lemmatize=True):\n",
        "  depd = dict()\n",
        "  for word_def in wordup:\n",
        "      depd[word_def['root'].lower()] = set()\n",
        "      for sense in word_def['senses']:\n",
        "        for ele in re.findall(r'\\b\\w+\\b', sense['de']):\n",
        "            depd[word_def['root'].lower()].add(ele.lower())\n",
        "  return depd"
      ]
    },
    {
      "cell_type": "code",
      "execution_count": null,
      "metadata": {
        "id": "p3yGkt5l6tqX"
      },
      "outputs": [],
      "source": [
        "def find_random_cycle(G, cycles=None, numbers=1000):\n",
        "  if cycles is None:\n",
        "      cycles = []\n",
        "\n",
        "  nodes = list(G.nodes())\n",
        "  for step in range(numbers):\n",
        "      idx = np.random.randint(len(nodes))\n",
        "      try:\n",
        "          cycle = nx.find_cycle(G, source=nodes[idx])\n",
        "          cycles.append(cycle)\n",
        "      except nx.NetworkXNoCycle:\n",
        "          pass\n",
        "  unique_cycles = []\n",
        "  for sublist in cycles:\n",
        "      if sublist not in unique_cycles:\n",
        "          unique_cycles.append(sublist)\n",
        "  return unique_cycles"
      ]
    },
    {
      "cell_type": "code",
      "execution_count": 15,
      "metadata": {},
      "outputs": [],
      "source": [
        "words = get_all_words(wordup)"
      ]
    },
    {
      "cell_type": "code",
      "execution_count": 16,
      "metadata": {},
      "outputs": [
        {
          "data": {
            "text/plain": [
              "34261"
            ]
          },
          "execution_count": 16,
          "metadata": {},
          "output_type": "execute_result"
        }
      ],
      "source": [
        "len(words)"
      ]
    },
    {
      "cell_type": "code",
      "execution_count": 17,
      "metadata": {},
      "outputs": [],
      "source": [
        "depd = get_dependencies(wordup)"
      ]
    },
    {
      "cell_type": "code",
      "execution_count": 18,
      "metadata": {},
      "outputs": [],
      "source": [
        "dependant = set()\n",
        "for key, value in depd.items():\n",
        "  dependant.update(value)"
      ]
    },
    {
      "cell_type": "code",
      "execution_count": 19,
      "metadata": {},
      "outputs": [
        {
          "data": {
            "text/plain": [
              "19836"
            ]
          },
          "execution_count": 19,
          "metadata": {},
          "output_type": "execute_result"
        }
      ],
      "source": [
        "len(dependant)"
      ]
    }
  ],
  "metadata": {
    "colab": {
      "provenance": []
    },
    "kernelspec": {
      "display_name": "Python 3",
      "name": "python3"
    },
    "language_info": {
      "codemirror_mode": {
        "name": "ipython",
        "version": 3
      },
      "file_extension": ".py",
      "mimetype": "text/x-python",
      "name": "python",
      "nbconvert_exporter": "python",
      "pygments_lexer": "ipython3",
      "version": "3.11.7"
    }
  },
  "nbformat": 4,
  "nbformat_minor": 0
}
