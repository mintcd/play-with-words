{
  "cells": [
    {
      "cell_type": "code",
      "execution_count": 1,
      "metadata": {
        "id": "NInWPV9KYuXx"
      },
      "outputs": [],
      "source": [
        "import requests\n",
        "from bs4 import BeautifulSoup\n",
        "import json\n",
        "import threading\n",
        "import re\n",
        "import numpy as np\n",
        "from functools import reduce\n",
        "from multiprocessing import Pool\n",
        "from itertools import combinations\n",
        "from time import time\n",
        "import zipfile\n",
        "import networkx as nx\n",
        "import matplotlib.pyplot as plt"
      ]
    },
    {
      "cell_type": "markdown",
      "metadata": {},
      "source": [
        "# Utils"
      ]
    },
    {
      "cell_type": "code",
      "execution_count": 2,
      "metadata": {},
      "outputs": [],
      "source": [
        "def read_json_from_zip(zip_file_path, json_file_name):\n",
        "    \"\"\"\n",
        "    Function to read a JSON file from a ZIP archive.\n",
        "\n",
        "    Parameters:\n",
        "        zip_file_path (str): Path to the ZIP archive.\n",
        "        json_file_name (str): Name of the JSON file within the ZIP archive.\n",
        "\n",
        "    Returns:\n",
        "        dict: Dictionary containing the JSON data.\n",
        "    \"\"\"\n",
        "    try:\n",
        "        # Open the zip file\n",
        "        with zipfile.ZipFile(zip_file_path, 'r') as zip_ref:\n",
        "            # Extract the JSON file from the zip archive\n",
        "            with zip_ref.open(json_file_name) as json_file:\n",
        "                # Read the JSON data\n",
        "                json_data = json.load(json_file)\n",
        "        return json_data\n",
        "    except Exception as e:\n",
        "        print(f\"Error reading JSON from ZIP: {e}\")\n",
        "        return None"
      ]
    },
    {
      "cell_type": "code",
      "execution_count": 3,
      "metadata": {},
      "outputs": [],
      "source": [
        "def split_words(text):\n",
        "    pattern = r\"\\b\\w+(?:'\\w+)?\\b|\\w+\"\n",
        "    return re.findall(pattern, text)"
      ]
    },
    {
      "cell_type": "code",
      "execution_count": 4,
      "metadata": {
        "id": "GuSs2EcaKFn0"
      },
      "outputs": [],
      "source": [
        "def print_key_structure(d, indent=0):\n",
        "    for key, value in d.items():\n",
        "        print('  ' * indent + str(key))\n",
        "        if isinstance(value, dict):\n",
        "            print_key_structure(value, indent + 1)"
      ]
    },
    {
      "cell_type": "markdown",
      "metadata": {},
      "source": [
        "# Wordup Analysis"
      ]
    },
    {
      "cell_type": "code",
      "execution_count": 5,
      "metadata": {
        "id": "65eRujhDKdX7"
      },
      "outputs": [],
      "source": [
        "def lookup(word, wordup):\n",
        "  for ele in wordup:\n",
        "    if ele['root'] == word.lower(): return ele\n",
        "  return None"
      ]
    },
    {
      "cell_type": "code",
      "execution_count": 6,
      "metadata": {
        "id": "1Jcq-xB5O6aI"
      },
      "outputs": [],
      "source": [
        "def find_maximal_complete_graphs(edges):\n",
        "    nodes = set()\n",
        "    for edge in edges:\n",
        "        nodes.update(edge)\n",
        "    nodes = sorted(nodes)\n",
        "\n",
        "    adjacency_dict = {node: set() for node in nodes}\n",
        "    for edge in edges:\n",
        "        node1, node2 = edge\n",
        "        adjacency_dict[node1].add(node2)\n",
        "        adjacency_dict[node2].add(node1)\n",
        "\n",
        "    visited = set()\n",
        "    maximal_complete_graphs = []\n",
        "\n",
        "    for node in nodes:\n",
        "        if node not in visited:\n",
        "            queue = [node]\n",
        "            component = set()\n",
        "            while queue:\n",
        "                current = queue.pop(0)\n",
        "                visited.add(current)\n",
        "                component.add(current)\n",
        "                neighbors = adjacency_dict[current]\n",
        "                for neighbor in neighbors:\n",
        "                    if neighbor not in visited:\n",
        "                        queue.append(neighbor)\n",
        "            maximal_complete_graphs.append(component)\n",
        "\n",
        "    return maximal_complete_graphs"
      ]
    },
    {
      "cell_type": "code",
      "execution_count": 7,
      "metadata": {},
      "outputs": [],
      "source": [
        "wordup = read_json_from_zip(\"D:\\Projects\\play-with-words\\wordup_processed.zip\", \"wordup_processed.json\")"
      ]
    },
    {
      "cell_type": "code",
      "execution_count": 8,
      "metadata": {},
      "outputs": [],
      "source": [
        "def get_all_words(wordup):\n",
        "  words = set()\n",
        "  for word_def in wordup:\n",
        "    words.add(word_def['root'])\n",
        "    for sense in word_def['senses']:\n",
        "      words.update([ele.lower() for ele in split_words(sense['de'])])\n",
        "  return words"
      ]
    },
    {
      "cell_type": "code",
      "execution_count": 9,
      "metadata": {},
      "outputs": [],
      "source": [
        "def get_dependencies(wordup, lemmatize=True):\n",
        "  depd = dict()\n",
        "  for word_def in wordup:\n",
        "      depd[word_def['root'].lower()] = set()\n",
        "      for sense in word_def['senses']:\n",
        "        for ele in re.findall(r'\\b\\w+\\b', sense['de']):\n",
        "            depd[word_def['root'].lower()].add(ele.lower())\n",
        "  return depd"
      ]
    },
    {
      "cell_type": "code",
      "execution_count": 10,
      "metadata": {
        "id": "p3yGkt5l6tqX"
      },
      "outputs": [],
      "source": [
        "def find_random_cycle(G, cycles=None, numbers=1000):\n",
        "  if cycles is None:\n",
        "      cycles = []\n",
        "\n",
        "  nodes = list(G.nodes())\n",
        "  for step in range(numbers):\n",
        "      idx = np.random.randint(len(nodes))\n",
        "      try:\n",
        "          cycle = nx.find_cycle(G, source=nodes[idx])\n",
        "          cycles.append(cycle)\n",
        "      except nx.NetworkXNoCycle:\n",
        "          pass\n",
        "  unique_cycles = []\n",
        "  for sublist in cycles:\n",
        "      if sublist not in unique_cycles:\n",
        "          unique_cycles.append(sublist)\n",
        "  return unique_cycles"
      ]
    },
    {
      "cell_type": "code",
      "execution_count": 11,
      "metadata": {},
      "outputs": [],
      "source": [
        "words = get_all_words(wordup)"
      ]
    },
    {
      "cell_type": "code",
      "execution_count": 12,
      "metadata": {},
      "outputs": [
        {
          "data": {
            "text/plain": [
              "34261"
            ]
          },
          "execution_count": 12,
          "metadata": {},
          "output_type": "execute_result"
        }
      ],
      "source": [
        "len(words)"
      ]
    },
    {
      "cell_type": "code",
      "execution_count": 40,
      "metadata": {},
      "outputs": [],
      "source": [
        "def get_dependants(word_list, wordup):\n",
        "  result = set()\n",
        "  for word_def in wordup:\n",
        "    if word_def['root'] in word_list:\n",
        "      for sense in word_def['senses']:\n",
        "        result.update([ele.lower() for ele in re.findall(r'\\b\\w+\\b', sense['de']) if ele.isalpha()])\n",
        "  return result"
      ]
    },
    {
      "cell_type": "code",
      "execution_count": null,
      "metadata": {},
      "outputs": [],
      "source": [
        "def get_dependers():\n",
        "  return"
      ]
    },
    {
      "cell_type": "code",
      "execution_count": 45,
      "metadata": {},
      "outputs": [],
      "source": [
        "def get_minimal_wordlist(word_list, wordup):\n",
        "  result = set()\n",
        "  iter = 0\n",
        "\n",
        "  print(f\"Original list length: {len(word_list)}\")\n",
        "\n",
        "  while len(result) <= len(word_list) and iter < 20:\n",
        "    result = get_dependants(word_list, wordup)\n",
        "    iter += 1\n",
        "    print(f\"Reduced list length after {iter+1} iteration(s): {len(word_list)}\")\n",
        "    if word_list == result: \n",
        "      print(f\"Minimalization converges!\")\n",
        "      break\n",
        "    word_list = result \n",
        "    \n",
        "  \n",
        "  if len(result) > len(word_list):\n",
        "    print(\"Dependant list is longer than last list!\")\n",
        "\n",
        "\n",
        "  return result"
      ]
    },
    {
      "cell_type": "code",
      "execution_count": 46,
      "metadata": {},
      "outputs": [
        {
          "name": "stdout",
          "output_type": "stream",
          "text": [
            "Original list length: 24287\n",
            "Reduced list length after 2 iteration(s): 24287\n",
            "Reduced list length after 3 iteration(s): 19638\n",
            "Reduced list length after 4 iteration(s): 14560\n",
            "Reduced list length after 5 iteration(s): 13528\n",
            "Reduced list length after 6 iteration(s): 13296\n",
            "Reduced list length after 7 iteration(s): 13257\n",
            "Reduced list length after 8 iteration(s): 13240\n",
            "Reduced list length after 9 iteration(s): 13236\n",
            "Minimalization converges!\n"
          ]
        }
      ],
      "source": [
        "minimal_word_list = get_minimal_wordlist([word_def['root'] for word_def in wordup], wordup)"
      ]
    },
    {
      "cell_type": "code",
      "execution_count": 47,
      "metadata": {},
      "outputs": [],
      "source": [
        "minimal_word_list = sorted(list(minimal_word_list))"
      ]
    },
    {
      "cell_type": "code",
      "execution_count": 48,
      "metadata": {},
      "outputs": [
        {
          "data": {
            "text/plain": [
              "['a',\n",
              " 'abandon',\n",
              " 'abandoned',\n",
              " 'abandoning',\n",
              " 'abbey',\n",
              " 'abbots',\n",
              " 'abbreviated',\n",
              " 'abbreviation',\n",
              " 'abdomen',\n",
              " 'abdominal',\n",
              " 'aberrant',\n",
              " 'abilities',\n",
              " 'ability',\n",
              " 'ablative',\n",
              " 'able',\n",
              " 'abnormal',\n",
              " 'abnormally',\n",
              " 'aboard',\n",
              " 'aboriginal',\n",
              " 'aborigines',\n",
              " 'abounding',\n",
              " 'about',\n",
              " 'above',\n",
              " 'abrasive',\n",
              " 'abroad',\n",
              " 'abrupt',\n",
              " 'abruptly',\n",
              " 'absence',\n",
              " 'absent',\n",
              " 'absinthe',\n",
              " 'absolute',\n",
              " 'absolutely',\n",
              " 'absorb',\n",
              " 'absorbed',\n",
              " 'absorbent',\n",
              " 'absorbers',\n",
              " 'absorbing',\n",
              " 'absorbs',\n",
              " 'absorption',\n",
              " 'abstract',\n",
              " 'absurd',\n",
              " 'absurdly',\n",
              " 'abundance',\n",
              " 'abundant',\n",
              " 'abundantly',\n",
              " 'abuse',\n",
              " 'abysmal',\n",
              " 'acacia',\n",
              " 'academic',\n",
              " 'acanthus',\n",
              " 'acceleration',\n",
              " 'accelerator',\n",
              " 'accent',\n",
              " 'accented',\n",
              " 'accept',\n",
              " 'acceptable',\n",
              " 'acceptance',\n",
              " 'accepted',\n",
              " 'accepting',\n",
              " 'accepts',\n",
              " 'access',\n",
              " 'accessed',\n",
              " 'accesses',\n",
              " 'accessories',\n",
              " 'accident',\n",
              " 'accidental',\n",
              " 'accidentally',\n",
              " 'accidents',\n",
              " 'acclaim',\n",
              " 'accommodation',\n",
              " 'accommodations',\n",
              " 'accompanied',\n",
              " 'accompanies',\n",
              " 'accompaniment',\n",
              " 'accompany',\n",
              " 'accompanying',\n",
              " 'accomplish',\n",
              " 'accomplished',\n",
              " 'accomplishes',\n",
              " 'accomplishing',\n",
              " 'accomplishment',\n",
              " 'accord',\n",
              " 'accordance',\n",
              " 'according',\n",
              " 'accordion',\n",
              " 'account',\n",
              " 'accountable',\n",
              " 'accountant',\n",
              " 'accounting',\n",
              " 'accounts',\n",
              " 'accumulate',\n",
              " 'accumulated',\n",
              " 'accumulation',\n",
              " 'accuracy',\n",
              " 'accurate',\n",
              " 'accurately',\n",
              " 'accusation',\n",
              " 'accusations',\n",
              " 'accuse',\n",
              " 'accused']"
            ]
          },
          "execution_count": 48,
          "metadata": {},
          "output_type": "execute_result"
        }
      ],
      "source": [
        "minimal_word_list[:100]"
      ]
    },
    {
      "cell_type": "code",
      "execution_count": 49,
      "metadata": {},
      "outputs": [
        {
          "data": {
            "text/plain": [
              "{'root': 'abbey',\n",
              " 'senses': [{'id': '244c59ff-ac44-455e-b93c-4639af733280',\n",
              "   'de': 'A building or group of buildings where monks or nuns live and pray',\n",
              "   'do': None,\n",
              "   'ty': 'noun',\n",
              "   'ex': 'The ancient abbey has a history of over a thousand years.',\n",
              "   'use': '',\n",
              "   'co': None,\n",
              "   'fo': None,\n",
              "   'sy': 'monastery, convent',\n",
              "   'op': None,\n",
              "   'gr': None,\n",
              "   're': '',\n",
              "   'br': False,\n",
              "   'am': False,\n",
              "   'cl': ['abbey church', ' abbey ruins', ' medieval abbey'],\n",
              "   'ImageSrc': 'https://word-images.cdn-wordup.com/senses/244c59ff-ac44-455e-b93c-4639af733280.webp?v=1'},\n",
              "  {'id': '73840545-c4a5-4962-b168-4191a6f59128',\n",
              "   'de': 'A church that is or was part of an abbey',\n",
              "   'do': None,\n",
              "   'ty': 'noun',\n",
              "   'ex': 'We visited the abbey during our tour of the historic city.',\n",
              "   'use': '',\n",
              "   'co': None,\n",
              "   'fo': None,\n",
              "   'sy': 'monastery church, convent church',\n",
              "   'op': None,\n",
              "   'gr': None,\n",
              "   're': '',\n",
              "   'br': False,\n",
              "   'am': False,\n",
              "   'cl': ['abbey church', ' historic abbey', ' old abbey'],\n",
              "   'ImageSrc': 'https://word-images.cdn-wordup.com/senses/73840545-c4a5-4962-b168-4191a6f59128.webp?v=1'}],\n",
              " 'comparisons': {'Cloister': {'wordRoot': 'Cloister',\n",
              "   'wordDefinition': 'Cloister refers to a covered walkway that surrounds a courtyard. The cloister is often found in monasteries and convents and is used by the residents for contemplation, prayer, and meditation.\\n\\nAn abbey is a complex of buildings used as a residence for monks or nuns, while a cloister is a covered walkway surrounding a courtyard used for contemplation and prayer.',\n",
              "   'wordImage': 'https://word-images.cdn-wordup.com/senses/c0861fcd-23df-4cba-b1b2-9de3a7df2d5e.webp?v=1'},\n",
              "  'Convent': {'wordRoot': 'Convent',\n",
              "   'wordDefinition': 'Abbey and convent are both religious buildings, but they are used differently. An abbey is a religious building that is used by monks, while a convent is used by nuns.\\n\\nA monk is a man who lives a religious life of solitude, while a nun is a woman who lives a religious life of service. The differences in the use of an abbey and a convent reflect the different roles that monks and nuns play in religious life.',\n",
              "   'wordImage': 'https://word-images.cdn-wordup.com/senses/0294cc66-8d92-487c-bdea-89b2b01cb197.webp?v=1'},\n",
              "  'Friary': {'wordRoot': 'Friary',\n",
              "   'wordDefinition': 'A friary is a type of religious building used by friars, who are members of a religious order that emphasizes evangelism and missionary work.\\n\\nAn abbey is a large religious building used by monks or nuns, while a friary is a smaller building used by friars for evangelism and missionary work.',\n",
              "   'wordImage': 'https://word-images.cdn-wordup.com/senses/b94f57e6-97af-49ce-8b22-433e86b4c4cf.webp?v=1'},\n",
              "  'Monastery': {'wordRoot': 'Monastery',\n",
              "   'wordDefinition': 'An abbey is a type of monastery that is led by an abbot or abbess. It is a place where monks or nuns live and worship. An abbey usually has multiple buildings, including a church, a dormitory for the monks or nuns to sleep in, and other buildings for work or study.\\n\\nA monastery is a place where monks live and worship. It may have a church, but it does not necessarily have to. Some monasteries are smaller and simpler than abbeys.\\n\\nThe term monastery is used to refer to any place where monks live and worship, while abbey specifically refers to a type of monastery that is led by an abbot or abbess.',\n",
              "   'wordImage': 'https://word-images.cdn-wordup.com/senses/97b894f1-c0bf-4beb-9c2b-3c48389723e2.webp?v=1'},\n",
              "  'Priory': {'wordRoot': 'Priory',\n",
              "   'wordDefinition': 'An abbey is a type of monastery or religious community that is led by an abbot, whereas a priory is a smaller version of an abbey that is led by a prior.\\n\\nA priory is a smaller version of an abbey and is associated with a smaller community.\\n\\nIn simpler words, abbey is a bigger religious community led by an abbot whereas priory is a smaller religious community led by a prior.',\n",
              "   'wordImage': 'https://word-images.cdn-wordup.com/senses/0b4c5e49-8f99-4adc-9da8-1ee796e2e11d.webp?v=1'}}}"
            ]
          },
          "execution_count": 49,
          "metadata": {},
          "output_type": "execute_result"
        }
      ],
      "source": [
        "lookup(\"abbey\", wordup)"
      ]
    }
  ],
  "metadata": {
    "colab": {
      "provenance": []
    },
    "kernelspec": {
      "display_name": "Python 3",
      "name": "python3"
    },
    "language_info": {
      "codemirror_mode": {
        "name": "ipython",
        "version": 3
      },
      "file_extension": ".py",
      "mimetype": "text/x-python",
      "name": "python",
      "nbconvert_exporter": "python",
      "pygments_lexer": "ipython3",
      "version": "3.11.7"
    }
  },
  "nbformat": 4,
  "nbformat_minor": 0
}
