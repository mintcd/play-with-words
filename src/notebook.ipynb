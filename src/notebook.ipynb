{
 "cells": [
  {
   "cell_type": "code",
   "execution_count": 23,
   "metadata": {},
   "outputs": [],
   "source": [
    "import json\n",
    "import os"
   ]
  },
  {
   "cell_type": "code",
   "execution_count": 44,
   "metadata": {},
   "outputs": [],
   "source": [
    "from utils import read_json_from_zip, print_key_structure, split_words"
   ]
  },
  {
   "cell_type": "code",
   "execution_count": 67,
   "metadata": {},
   "outputs": [],
   "source": [
    "from scrape import WordupScrape"
   ]
  },
  {
   "cell_type": "code",
   "execution_count": 87,
   "metadata": {},
   "outputs": [],
   "source": [
    "from analyze import WordupAnalysis"
   ]
  },
  {
   "cell_type": "code",
   "execution_count": 68,
   "metadata": {},
   "outputs": [
    {
     "name": "stdout",
     "output_type": "stream",
     "text": [
      "Scraped mor successfully!\n"
     ]
    },
    {
     "data": {
      "text/plain": [
       "{'props': {'pageProps': {'currentWord': {'wordRoot': 'mor',\n",
       "    'id': 22278,\n",
       "    'phonemic': 'Ë\\x8cem É\\x99Ê\\x8a Ë\\x88É\\x91Ë\\x90(r)|Ë\\x8cem É\\x99Ê\\x8a Ë\\x88É\\x91Ë\\x90r\\r',\n",
       "    'bigId': 'c0ddee39-07d0-4f34-83e6-d53d2727110f'},\n",
       "   'senses': [{'id': 'c0ddee39-07d0-4f34-83e6-d53d2727110f',\n",
       "     'de': 'Music that is pleasant to listen to, but is not exciting or original (the abbreviation for â\\x80\\x98middle-of-the-roadâ\\x80\\x99)',\n",
       "     'ty': 'Noun',\n",
       "     'tp': '',\n",
       "     'ImageSrc': 'https://word-images.cdn-wordup.com/senses/c0ddee39-07d0-4f34-83e6-d53d2727110f.webp?v=1',\n",
       "     'Tips': [{'title': 'Music Genre',\n",
       "       'description': \"The word 'mor' refers specifically to a genre of music that is easy-listening but often lacks uniqueness.\",\n",
       "       'example': \"Most radio stations play 'mor' tunes in the morning to give off a relaxed vibe.\\r\",\n",
       "       'imageUrl': 'https://word-images.cdn-wordup.com/tips/LpwuH8udOBShzta3NSzij4jQU.webp'},\n",
       "      {'title': 'Unexciting Nuance',\n",
       "       'description': \"'Mor' also implies that the music might be considered dull by those seeking more adventurous or cutting-edge styles.\",\n",
       "       'example': \"He dismissed the latest album as 'mor' because it didn't offer any new sounds.\\r\",\n",
       "       'imageUrl': 'https://word-images.cdn-wordup.com/tips/ZMQ9Iat48ga31pukchDovQ2wvNA.webp'},\n",
       "      {'title': 'Cultural Perception',\n",
       "       'description': \"In some cultures, 'mor' music may be popular for its relaxing properties even though it's not seen as innovative.\",\n",
       "       'example': \"At the cafÃ©, they always play 'mor' music because it's soothing and appeals to a wide audience.\\r\",\n",
       "       'imageUrl': 'https://word-images.cdn-wordup.com/tips/WImIIo686moDAeoQ12Az02WzHs.webp'}],\n",
       "     'use': '',\n",
       "     'sy': '',\n",
       "     'op': ''}],\n",
       "   'comparisons': {},\n",
       "   'videos': [],\n",
       "   'quotes': []},\n",
       "  '__N_SSG': True},\n",
       " 'page': '/dictionary/[slug]',\n",
       " 'query': {'slug': 'mor'},\n",
       " 'buildId': 'XqYvcJ7ji9KnfcDPPddfR',\n",
       " 'isFallback': False,\n",
       " 'dynamicIds': [97],\n",
       " 'gsp': True,\n",
       " 'scriptLoader': []}"
      ]
     },
     "execution_count": 68,
     "metadata": {},
     "output_type": "execute_result"
    }
   ],
   "source": [
    "WordupScrape.scrape_word(\"mor\")"
   ]
  },
  {
   "cell_type": "code",
   "execution_count": 62,
   "metadata": {},
   "outputs": [
    {
     "data": {
      "text/plain": [
       "<module 'scrape' from 'd:\\\\Projects\\\\play-with-words\\\\src\\\\scrape.py'>"
      ]
     },
     "execution_count": 62,
     "metadata": {},
     "output_type": "execute_result"
    }
   ],
   "source": [
    "import importlib\n",
    "import scrape\n",
    "\n",
    "importlib.reload(scrape)"
   ]
  },
  {
   "cell_type": "code",
   "execution_count": 4,
   "metadata": {},
   "outputs": [],
   "source": [
    "wordup_complete = read_json_from_zip(\"D:\\Projects\\play-with-words\\data\\wordup_complete.zip\", \"wordup_complete.json\")"
   ]
  },
  {
   "cell_type": "code",
   "execution_count": 14,
   "metadata": {},
   "outputs": [],
   "source": [
    "# Search for the root\n",
    "\n",
    "for i in range(len(wordup_complete)):\n",
    "\tsense_id = wordup_complete[i]['senses'][0]['id']\n",
    "\tfound = False\n",
    "\tfor word_def_raw in wordup_raw:\n",
    "\t\tfor sense in word_def_raw['props']['pageProps']['senses']:\n",
    "\t\t\tif sense['id'] == sense_id:\n",
    "\t\t\t\tfound = True\n",
    "\t\t\t\twordup_complete[i]['word'] = word_def_raw['props']['pageProps']['currentWord']\n",
    "\t\t\t\twordup_complete[i]['comparisons'] = word_def_raw['props']['pageProps']['comparisons']\n",
    "\t\t\t\twordup_complete[i]['videos'] = word_def_raw['props']['pageProps']['videos']\n",
    "\t\t\t\twordup_complete[i]['quotes'] = word_def_raw['props']['pageProps']['quotes']\n",
    "\t\t\t\tbreak\n",
    "\t\tif found:\n",
    "\t\t\tbreak"
   ]
  },
  {
   "cell_type": "code",
   "execution_count": null,
   "metadata": {},
   "outputs": [],
   "source": [
    "wordup_complete[0]"
   ]
  },
  {
   "cell_type": "code",
   "execution_count": 19,
   "metadata": {},
   "outputs": [],
   "source": [
    "no_roots = list()\n",
    "for i in range(len(wordup_complete)):\n",
    "\tif 'word' not in list(wordup_complete[i].keys()):\n",
    "\t\tno_roots.append(i)"
   ]
  },
  {
   "cell_type": "code",
   "execution_count": 48,
   "metadata": {},
   "outputs": [
    {
     "data": {
      "text/plain": [
       "{'id': '1f7c459f-9d41-4878-82fe-6abbcdd86f92',\n",
       " 'de': 'Resembling or similar to humans',\n",
       " 'ty': 'adjective',\n",
       " 'ex': 'Chimpanzees are considered anthropoid because of their similarities with humans.',\n",
       " 'use': '',\n",
       " 'co': 'Scientific',\n",
       " 'sy': 'Human-like, humanoid, manlike',\n",
       " 're': '',\n",
       " 'tp': 'Figurative Usage|Used metaphorically to describe things resembling humans in behavior or shape|The robot had anthropoid movements, mimicking human gestures.\\r\\nBeyond Physical|Can imply similarity in intelligence or emotion, not just physical appearance|He showed an anthropoid curiosity, learning rapidly like a human child.\\r\\nMythology Reference|The term can invoke mythical beings that are human-like, such as centaurs.|The creature in the tale was described as anthropoid, with human forms above the waist.\\r\\nScience Fiction Context|Often used in science fiction to describe aliens or robots that resemble humans.|The anthropoid aliens walked upright and communicated with advanced language.\\r\\nAvoid Misuse|Should not be used to describe things that are fully human; anthropoid implies partial similarity.|The ancient statue was not human, but distinctly anthropoid in its form.',\n",
       " 'cl': ['']}"
      ]
     },
     "execution_count": 48,
     "metadata": {},
     "output_type": "execute_result"
    }
   ],
   "source": [
    "wordup_complete[0]['senses'][0]"
   ]
  },
  {
   "cell_type": "code",
   "execution_count": 80,
   "metadata": {},
   "outputs": [],
   "source": [
    "all_words = set()\n",
    "no_examples = list()\n",
    "\n",
    "for i in range(len(wordup_complete)):\n",
    "\tex_found = False\n",
    "\tfor sense in wordup_complete[i]['senses']:\n",
    "\t\tif 'ex' in list(sense.keys()):\n",
    "\t\t\tall_words.update([word.lower() for word in split_words(sense['ex']) if word.isalpha()])\n",
    "\t\t\tex_found = True\n",
    "\t\t\tbreak\n",
    "\tif not ex_found:\n",
    "\t\tno_examples.append(i)\n",
    "\t\t"
   ]
  },
  {
   "cell_type": "code",
   "execution_count": 81,
   "metadata": {},
   "outputs": [
    {
     "data": {
      "text/plain": [
       "[9393, 14773, 15739]"
      ]
     },
     "execution_count": 81,
     "metadata": {},
     "output_type": "execute_result"
    }
   ],
   "source": [
    "no_examples"
   ]
  },
  {
   "cell_type": "code",
   "execution_count": 82,
   "metadata": {},
   "outputs": [
    {
     "data": {
      "text/plain": [
       "31354"
      ]
     },
     "execution_count": 82,
     "metadata": {},
     "output_type": "execute_result"
    }
   ],
   "source": [
    "len(all_words)"
   ]
  },
  {
   "cell_type": "code",
   "execution_count": 83,
   "metadata": {},
   "outputs": [],
   "source": [
    "unscraped_words = sorted(list(set(all_words) - set([word_def['root'] for word_def in wordup_processed])))"
   ]
  },
  {
   "cell_type": "code",
   "execution_count": 74,
   "metadata": {},
   "outputs": [],
   "source": [
    "unscraped_words = [word for word in unscraped_words if word.isalpha()]"
   ]
  },
  {
   "cell_type": "code",
   "execution_count": 95,
   "metadata": {},
   "outputs": [],
   "source": [
    "unscraped_words = list(set(unscraped_words) - all_wordforms)"
   ]
  },
  {
   "cell_type": "code",
   "execution_count": 96,
   "metadata": {},
   "outputs": [
    {
     "data": {
      "text/plain": [
       "2075"
      ]
     },
     "execution_count": 96,
     "metadata": {},
     "output_type": "execute_result"
    }
   ],
   "source": [
    "len(unscraped_words)"
   ]
  },
  {
   "cell_type": "code",
   "execution_count": null,
   "metadata": {},
   "outputs": [],
   "source": []
  },
  {
   "cell_type": "code",
   "execution_count": 93,
   "metadata": {},
   "outputs": [],
   "source": [
    "wordform_data = json.load(open(\"D:\\Projects\\play-with-words\\data\\wordform.json\", \"r\"))"
   ]
  },
  {
   "cell_type": "code",
   "execution_count": 94,
   "metadata": {},
   "outputs": [],
   "source": [
    "all_wordforms = set()\n",
    "for wordform in wordform_data:\n",
    "\tall_wordforms.update(wordform['forms'])"
   ]
  },
  {
   "cell_type": "code",
   "execution_count": 102,
   "metadata": {},
   "outputs": [],
   "source": [
    "with open(\"D:\\\\Projects\\\\play-with-words\\\\to-scrape.txt\", 'w', encoding='utf-8') as file:\n",
    "    for item in unscraped_words:\n",
    "        file.write(str(item) + '\\n')\n"
   ]
  },
  {
   "cell_type": "code",
   "execution_count": 97,
   "metadata": {},
   "outputs": [
    {
     "data": {
      "text/plain": [
       "['rewind',\n",
       " 'fenians',\n",
       " 'picts',\n",
       " 'wells',\n",
       " 'teasingly',\n",
       " 'bifurcates',\n",
       " 'cosplay',\n",
       " 'throwbackthursday',\n",
       " 'salvador',\n",
       " 'bushwhack',\n",
       " 'ge',\n",
       " 'phelps',\n",
       " 'pluvial',\n",
       " 'partway',\n",
       " 'hussars',\n",
       " 'jerry',\n",
       " 'slinked',\n",
       " 'malagasy',\n",
       " 'chives',\n",
       " 'minutemen']"
      ]
     },
     "execution_count": 97,
     "metadata": {},
     "output_type": "execute_result"
    }
   ],
   "source": [
    "unscraped_words[:20]"
   ]
  },
  {
   "cell_type": "code",
   "execution_count": 98,
   "metadata": {},
   "outputs": [],
   "source": [
    "WordupAnalysis.lookup(\"rewind\", wordup_processed)"
   ]
  },
  {
   "cell_type": "code",
   "execution_count": 60,
   "metadata": {},
   "outputs": [
    {
     "data": {
      "text/plain": [
       "{'usage': 'The word \\'mor\\' is a Danish word that means morning in English. It is used when you are talking about the first part of the day, right after you wake up. For example, \"I woke up this mor\" means \"I woke up this morning\". You can use this word when you are greeting someone in the morning, such as \"good mor!\" which means \"good morning!\" So, if you want to talk about the beginning of the day in Danish, you can use the word \\'mor\\'.',\n",
       " 'senses': [{'id': 'c0ddee39-07d0-4f34-83e6-d53d2727110f',\n",
       "   'de': 'Music that is pleasant to listen to, but is not exciting or original (the abbreviation for ‘middle-of-the-road’)',\n",
       "   'ty': 'Noun',\n",
       "   'tp': \"Music Genre|The word 'mor' refers specifically to a genre of music that is easy-listening but often lacks uniqueness.|Most radio stations play 'mor' tunes in the morning to give off a relaxed vibe.\\r\\nUnexciting Nuance|'Mor' also implies that the music might be considered dull by those seeking more adventurous or cutting-edge styles.|He dismissed the latest album as 'mor' because it didn't offer any new sounds.\\r\\nCultural Perception|In some cultures, 'mor' music may be popular for its relaxing properties even though it's not seen as innovative.|At the café, they always play 'mor' music because it's soothing and appeals to a wide audience.\\r\\nNot Negative|'Mor' isn't necessarily a negative term and can be associated with comfort and familiarity in music.|My parents love listening to 'mor' since it brings back memories of their youth.\\r\\nAbbreviation Knowledge|'Mor' as an abbreviation for 'middle-of-the-road' is less known; remembering this can help you understand discussions about music styles.|Critics often use the term 'mor' to describe artists who don't stray far from the mainstream.\"}],\n",
       " 'phrases': [],\n",
       " 'quotes': [],\n",
       " 'videos': [],\n",
       " 'comparisons': [],\n",
       " 'wisdom': [],\n",
       " 'facts': [],\n",
       " 'misspellings': 'Amaoar|Emaoar|Ameoar'}"
      ]
     },
     "execution_count": 60,
     "metadata": {},
     "output_type": "execute_result"
    }
   ],
   "source": [
    "wordup_complete[15739]"
   ]
  },
  {
   "cell_type": "code",
   "execution_count": 32,
   "metadata": {},
   "outputs": [],
   "source": [
    "wordup_processed = read_json_from_zip(\"D:\\Projects\\play-with-words\\data\\wordup_processed.zip\", \"wordup_processed.json\")"
   ]
  },
  {
   "cell_type": "code",
   "execution_count": 33,
   "metadata": {},
   "outputs": [
    {
     "data": {
      "text/plain": [
       "24287"
      ]
     },
     "execution_count": 33,
     "metadata": {},
     "output_type": "execute_result"
    }
   ],
   "source": [
    "len(wordup_processed)"
   ]
  },
  {
   "cell_type": "code",
   "execution_count": 35,
   "metadata": {},
   "outputs": [],
   "source": [
    "processed_words = [word_def['root'] for word_def in wordup_processed]"
   ]
  },
  {
   "cell_type": "code",
   "execution_count": 34,
   "metadata": {},
   "outputs": [
    {
     "data": {
      "text/plain": [
       "24289"
      ]
     },
     "execution_count": 34,
     "metadata": {},
     "output_type": "execute_result"
    }
   ],
   "source": [
    "len(wordup_raw)"
   ]
  },
  {
   "cell_type": "code",
   "execution_count": 40,
   "metadata": {},
   "outputs": [],
   "source": [
    "wordup_raw_filtered = list()\n",
    "seen = set()\n",
    "\n",
    "for word_def_raw in wordup_raw:\n",
    "\troot = word_def_raw['props']['pageProps']['currentWord']['wordRoot']\n",
    "\tif root not in seen: \n",
    "\t\tseen.add(root)\n",
    "\t\twordup_raw_filtered.append(word_def_raw)"
   ]
  },
  {
   "cell_type": "code",
   "execution_count": 43,
   "metadata": {},
   "outputs": [],
   "source": [
    "json.dump(wordup_raw_filtered,\n",
    "\t\t\t\t\topen(\"D:\\Projects\\play-with-words\\data\\wordup_raw.json\", \"w\"),\n",
    "\t\t\t\t\tindent=2)"
   ]
  },
  {
   "cell_type": "code",
   "execution_count": 36,
   "metadata": {},
   "outputs": [],
   "source": [
    "raw_words = [word_def_raw['props']['pageProps']['currentWord']['wordRoot'] for word_def_raw in wordup_raw]"
   ]
  },
  {
   "cell_type": "code",
   "execution_count": 22,
   "metadata": {},
   "outputs": [],
   "source": [
    "json.dump(wordup_complete, \n",
    "\t\t\t\t\topen(\"D:\\Projects\\play-with-words\\data\\wordup_complete.json\", \"w\"),\n",
    "\t\t\t\t\tindent=2)"
   ]
  },
  {
   "cell_type": "code",
   "execution_count": 25,
   "metadata": {},
   "outputs": [
    {
     "data": {
      "text/plain": [
       "342.13188457489014"
      ]
     },
     "execution_count": 25,
     "metadata": {},
     "output_type": "execute_result"
    }
   ],
   "source": [
    "os.path.getsize(\"D:\\Projects\\play-with-words\\data\\wordup_complete.json\") / (1024 * 1024)"
   ]
  }
 ],
 "metadata": {
  "kernelspec": {
   "display_name": "base",
   "language": "python",
   "name": "python3"
  },
  "language_info": {
   "codemirror_mode": {
    "name": "ipython",
    "version": 3
   },
   "file_extension": ".py",
   "mimetype": "text/x-python",
   "name": "python",
   "nbconvert_exporter": "python",
   "pygments_lexer": "ipython3",
   "version": "3.11.7"
  }
 },
 "nbformat": 4,
 "nbformat_minor": 2
}
