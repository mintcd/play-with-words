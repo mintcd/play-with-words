{
  "cells": [
    {
      "cell_type": "code",
      "execution_count": 1,
      "metadata": {
        "id": "NInWPV9KYuXx"
      },
      "outputs": [],
      "source": [
        "import requests\n",
        "from bs4 import BeautifulSoup\n",
        "import json\n",
        "import threading\n",
        "import re\n",
        "import numpy as np\n",
        "from functools import reduce\n",
        "from multiprocessing import Pool\n",
        "from itertools import combinations\n",
        "from time import time\n",
        "import zipfile\n",
        "import networkx as nx\n",
        "import matplotlib.pyplot as plt\n",
        "import csv"
      ]
    },
    {
      "cell_type": "code",
      "execution_count": 6,
      "metadata": {},
      "outputs": [],
      "source": [
        "def find_random_cycle(G, cycles=None, numbers=1000):\n",
        "  if cycles is None:\n",
        "      cycles = []\n",
        "\n",
        "  nodes = list(G.nodes())\n",
        "  for step in range(numbers):\n",
        "      idx = np.random.randint(len(nodes))\n",
        "      try:\n",
        "          cycle = nx.find_cycle(G, source=nodes[idx])\n",
        "          cycles.append(cycle)\n",
        "      except nx.NetworkXNoCycle:\n",
        "          pass\n",
        "  unique_cycles = []\n",
        "  for sublist in cycles:\n",
        "      if sublist not in unique_cycles:\n",
        "          unique_cycles.append(sublist)\n",
        "  return unique_cycles"
      ]
    },
    {
      "cell_type": "markdown",
      "metadata": {},
      "source": [
        "# Execution"
      ]
    },
    {
      "cell_type": "code",
      "execution_count": 17,
      "metadata": {},
      "outputs": [],
      "source": [
        "wordup = read_json_from_zip(\"D:\\Projects\\play-with-words\\data\\wordup_processed.zip\", \"wordup_processed.json\")"
      ]
    },
    {
      "cell_type": "code",
      "execution_count": 18,
      "metadata": {},
      "outputs": [
        {
          "data": {
            "text/plain": [
              "24287"
            ]
          },
          "execution_count": 18,
          "metadata": {},
          "output_type": "execute_result"
        }
      ],
      "source": [
        "len(wordup)"
      ]
    },
    {
      "cell_type": "code",
      "execution_count": 19,
      "metadata": {},
      "outputs": [
        {
          "data": {
            "text/plain": [
              "34261"
            ]
          },
          "execution_count": 19,
          "metadata": {},
          "output_type": "execute_result"
        }
      ],
      "source": [
        "words = get_all_words(wordup)\n",
        "len(words)"
      ]
    },
    {
      "cell_type": "code",
      "execution_count": 20,
      "metadata": {},
      "outputs": [
        {
          "name": "stdout",
          "output_type": "stream",
          "text": [
            "Original list length: 24287\n",
            "Reduced list length after 2 iteration(s): 24287\n",
            "Reduced list length after 3 iteration(s): 19638\n",
            "Reduced list length after 4 iteration(s): 14560\n",
            "Reduced list length after 5 iteration(s): 13528\n",
            "Reduced list length after 6 iteration(s): 13296\n",
            "Reduced list length after 7 iteration(s): 13257\n",
            "Reduced list length after 8 iteration(s): 13240\n",
            "Reduced list length after 9 iteration(s): 13236\n",
            "Minimalization converges!\n"
          ]
        }
      ],
      "source": [
        "minimal_word_list = get_minimal_wordlist([word_def['root'] for word_def in wordup], wordup)"
      ]
    },
    {
      "cell_type": "code",
      "execution_count": 23,
      "metadata": {},
      "outputs": [
        {
          "data": {
            "text/plain": [
              "{'root': 'daffodil',\n",
              " 'senses': [{'id': 'b79ed588-8820-462c-ac47-e70e1cf48e80',\n",
              "   'de': 'A yellow flower that usually blooms in the spring.',\n",
              "   'do': None,\n",
              "   'ty': 'noun',\n",
              "   'ex': 'The garden was full of blooming daffodils.',\n",
              "   'use': '',\n",
              "   'co': None,\n",
              "   'fo': None,\n",
              "   'sy': 'Narcissus',\n",
              "   'op': None,\n",
              "   'gr': None,\n",
              "   're': '',\n",
              "   'br': False,\n",
              "   'am': False,\n",
              "   'cl': ['blooming daffodils', ' yellow daffodils', ' spring daffodils'],\n",
              "   'ImageSrc': 'https://word-images.cdn-wordup.com/senses/b79ed588-8820-462c-ac47-e70e1cf48e80.webp?v=1'}],\n",
              " 'comparisons': {'Bulb': {'wordRoot': 'Bulb',\n",
              "   'wordDefinition': 'A bulb is a type of plant structure that stores food and energy underground.\\n\\nIt can produce many different types of flowers, with examples being tulips and lilies. Daffodil is a specific type of flower that grows from a bulb.\\n\\nSo, while all daffodils grow from bulbs, not all bulbs produce daffodils.\\n\\nBulb is more applicable to the underground structure of a plant, while daffodil is more applicable to the above-ground flower that grows from a bulb.',\n",
              "   'wordImage': 'https://word-images.cdn-wordup.com/senses/ea32352b-8e9c-497a-84f1-b721aea45add.webp?v=1'},\n",
              "  'Narcissus': {'wordRoot': 'Narcissus',\n",
              "   'wordDefinition': 'Daffodil and narcissus refer to the same type of flower, but daffodil is the common name for those with yellow or white petals and a yellow trumpet, while narcissus refers to any flower of the genus Narcissus, which includes daffodils, but also other varieties with different colors or shapes.\\n\\nIf you are referring specifically to yellow or white daffodils, use the word daffodil, whereas if you are talking about any type of flower in the Narcissus genus, use the word narcissus.',\n",
              "   'wordImage': 'https://word-images.cdn-wordup.com/senses/2f94886b-2fb5-40b6-b217-a8e003722ef4.webp?v=1'}}}"
            ]
          },
          "execution_count": 23,
          "metadata": {},
          "output_type": "execute_result"
        }
      ],
      "source": [
        "lookup(\"daffodil\", wordup)"
      ]
    }
  ],
  "metadata": {
    "colab": {
      "provenance": []
    },
    "kernelspec": {
      "display_name": "Python 3",
      "name": "python3"
    },
    "language_info": {
      "codemirror_mode": {
        "name": "ipython",
        "version": 3
      },
      "file_extension": ".py",
      "mimetype": "text/x-python",
      "name": "python",
      "nbconvert_exporter": "python",
      "pygments_lexer": "ipython3",
      "version": "3.11.7"
    }
  },
  "nbformat": 4,
  "nbformat_minor": 0
}
