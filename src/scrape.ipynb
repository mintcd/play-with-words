{
  "cells": [
    {
      "cell_type": "code",
      "execution_count": 1,
      "metadata": {
        "id": "NInWPV9KYuXx"
      },
      "outputs": [],
      "source": [
        "import requests\n",
        "from bs4 import BeautifulSoup\n",
        "import json\n",
        "import threading\n",
        "import re\n",
        "import numpy as np\n",
        "from functools import reduce\n",
        "from multiprocessing import Pool\n",
        "from itertools import combinations"
      ]
    },
    {
      "cell_type": "code",
      "execution_count": 2,
      "metadata": {
        "id": "I98gz_3ofxp_"
      },
      "outputs": [],
      "source": [
        "threads = []\n",
        "num_threads = 20"
      ]
    },
    {
      "cell_type": "code",
      "execution_count": 9,
      "metadata": {
        "id": "wIrY7d2AeewR"
      },
      "outputs": [],
      "source": [
        "def scrape_thread(num, word_list, scraped_word):\n",
        "    length = len(word_list)\n",
        "    total = 0\n",
        "    for i in range(length):\n",
        "        if i % num_threads == num:\n",
        "            search_for = word_list[i].lower().replace(\" \", \"-\")\n",
        "            url = f\"https://www.wordupapp.co/dictionary/{search_for}\"\n",
        "            response = requests.get(url)\n",
        "\n",
        "            # Check if the request was successful (status code 200)\n",
        "            if response.status_code == 200:\n",
        "                soup = BeautifulSoup(response.text, 'html.parser')\n",
        "                json_tag = soup.find('script', {'type': 'application/json'})\n",
        "\n",
        "                if json_tag:\n",
        "                    json_data = json.loads(json_tag.text)\n",
        "                    scraped_word.append(json_data)\n",
        "                    total += 1\n",
        "                    if total % 100 == 0:\n",
        "                        print(f\"Thread {i} reached {total} words\")\n",
        "                else:\n",
        "                    print(f\"No tag with type='application/json' of {search_for}.\")\n",
        "            else:\n",
        "                print(f\"Failed to retrieve {search_for}\")"
      ]
    },
    {
      "cell_type": "code",
      "execution_count": 7,
      "metadata": {},
      "outputs": [],
      "source": [
        "word_list = []\n",
        "with open(\"D:/Projects/play-with-words/to-scrape.txt\", \"r\") as txt_file:\n",
        "    word_list = [line.strip() for line in txt_file if line.strip().isalpha()]"
      ]
    },
    {
      "cell_type": "code",
      "execution_count": 8,
      "metadata": {},
      "outputs": [
        {
          "data": {
            "text/plain": [
              "9685"
            ]
          },
          "execution_count": 8,
          "metadata": {},
          "output_type": "execute_result"
        }
      ],
      "source": [
        "len(word_list)"
      ]
    },
    {
      "cell_type": "code",
      "execution_count": 10,
      "metadata": {},
      "outputs": [],
      "source": [
        "scraped_word = []"
      ]
    },
    {
      "cell_type": "code",
      "execution_count": null,
      "metadata": {
        "id": "Ao68U-OvfRh5"
      },
      "outputs": [],
      "source": [
        "print(len(scraped_word))\n",
        "for i in range(num_threads):\n",
        "    t = threading.Thread(target=scrape_thread, args=(i, word_list, scraped_word))\n",
        "    threads.append(t)\n",
        "    t.start()\n",
        "\n",
        "for t in threads:\n",
        "    t.join()\n",
        "\n",
        "print(\"All tasks completed\")\n",
        "print(len(scraped_word))"
      ]
    },
    {
      "cell_type": "code",
      "execution_count": null,
      "metadata": {
        "id": "21rhbei2HkQu"
      },
      "outputs": [],
      "source": [
        "filtered_scraped_words = [word for word in scraped_word if 'wordRoot' in word.get('props', {}).get('pageProps', {}).get('currentWord', {})]"
      ]
    },
    {
      "cell_type": "code",
      "execution_count": null,
      "metadata": {
        "id": "MnnrZnHhJrSu"
      },
      "outputs": [],
      "source": [
        "wordup_processed = [{'root':word['props']['pageProps']['currentWord']['wordRoot'],\n",
        "                     'senses':word['props']['pageProps']['senses'],\n",
        "                     'comparisons':word['props']['pageProps']['comparisons']}\n",
        "                    for word in new_wordup]"
      ]
    },
    {
      "cell_type": "code",
      "execution_count": null,
      "metadata": {},
      "outputs": [],
      "source": [
        "def get_graph(wordup):\n",
        "  G = nx.DiGraph()\n",
        "  nodes = list()\n",
        "  edges = list()\n",
        "  for word_def in wordup:\n",
        "    nodes.append(word_def['root'].lower())\n",
        "    for comp in word_def['comparisons']:\n",
        "      edges.append((word_def['root'].lower(), comp.lower()))\n",
        "  G.add_nodes_from(nodes)\n",
        "  G.add_edges_from(edges)\n",
        "  return G"
      ]
    },
    {
      "cell_type": "code",
      "execution_count": null,
      "metadata": {},
      "outputs": [],
      "source": [
        "def get_unscraped(graph):\n",
        "  result = set()\n",
        "  all_nodes = set()\n",
        "  presented = list(graph.keys())\n",
        "  for value in graph.values():\n",
        "    all_nodes.update(value)\n",
        "\n",
        "  for node in all_nodes:\n",
        "    if node not in presented:\n",
        "      result.add(node)\n",
        "  return list(result)"
      ]
    },
    {
      "cell_type": "code",
      "execution_count": null,
      "metadata": {},
      "outputs": [],
      "source": [
        "def get_unfound(wordup):\n",
        "    words = set()\n",
        "    for word in wordup:\n",
        "      words.add(word['currentWord']['wordRoot'].lower())\n",
        "      for comp in word['comparisons'].keys():\n",
        "        words.add(comp.lower())\n",
        "\n",
        "    unfound = set()\n",
        "    for word in list(words):\n",
        "      if not lookup(word, wordup):\n",
        "        unfound.add(word)\n",
        "\n",
        "    return unfound"
      ]
    },
    {
      "cell_type": "code",
      "execution_count": null,
      "metadata": {},
      "outputs": [],
      "source": [
        "def scrape(word, wordup):\n",
        "  if \" \" in word:\n",
        "    search_for = word.replace(\" \", \"-\")\n",
        "  elif \"-\" in word:\n",
        "    search_for = word.replace(\"-\", \"3\")\n",
        "  else:\n",
        "    search_for = word\n",
        "  url = f\"https://www.wordupapp.co/dictionary/{search_for}\"\n",
        "  response = requests.get(url)\n",
        "\n",
        "  if response.status_code == 200:\n",
        "      soup = BeautifulSoup(response.text, 'html.parser')\n",
        "      json_tag = soup.find('script', {'type': 'application/json'})\n",
        "\n",
        "      if json_tag:\n",
        "          json_data = json.loads(json_tag.text)\n",
        "          wordup.append(json_data)\n",
        "          print(f\"Scraped {search_for} successfully!\")\n",
        "\n",
        "      else:\n",
        "          print(f\"No tag with type='application/json' of {search_for}.\")\n",
        "  else:\n",
        "      print(f\"Failed to retrieve {search_for}\")\n",
        "  return wordup"
      ]
    },
    {
      "cell_type": "code",
      "execution_count": null,
      "metadata": {},
      "outputs": [],
      "source": [
        "def add_to_processed(word, wordup_raw, wordup_processed):\n",
        "  for word_def in wordup_raw:\n",
        "    if word_def['props']['pageProps']['currentWord']['wordRoot'] == word:\n",
        "      if not lookup(word.lower(), wordup_processed):\n",
        "        wordup_processed.append({'root':word_def['props']['pageProps']['currentWord']['wordRoot'],\n",
        "                      'senses':word_def['props']['pageProps']['senses'],\n",
        "                      'comparisons':word_def['props']['pageProps']['comparisons']})\n",
        "        print(f\"Add {word} successfully!\")\n",
        "      else:\n",
        "        print(f\"Already there {word}\")\n",
        "      return wordup_processed\n",
        "  print(f\"Cannot add {word}!\")\n",
        "  return wordup_processed"
      ]
    }
  ],
  "metadata": {
    "colab": {
      "provenance": []
    },
    "kernelspec": {
      "display_name": "Python 3",
      "name": "python3"
    },
    "language_info": {
      "codemirror_mode": {
        "name": "ipython",
        "version": 3
      },
      "file_extension": ".py",
      "mimetype": "text/x-python",
      "name": "python",
      "nbconvert_exporter": "python",
      "pygments_lexer": "ipython3",
      "version": "3.11.7"
    }
  },
  "nbformat": 4,
  "nbformat_minor": 0
}
