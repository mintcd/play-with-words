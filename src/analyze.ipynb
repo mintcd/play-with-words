{
  "cells": [
    {
      "cell_type": "code",
      "execution_count": 1,
      "metadata": {
        "id": "NInWPV9KYuXx"
      },
      "outputs": [],
      "source": [
        "import requests\n",
        "from bs4 import BeautifulSoup\n",
        "import json\n",
        "import threading\n",
        "import re\n",
        "import numpy as np\n",
        "from functools import reduce\n",
        "from multiprocessing import Pool\n",
        "from itertools import combinations\n",
        "from time import time\n",
        "import zipfile\n",
        "import networkx as nx\n",
        "import matplotlib.pyplot as plt\n",
        "import csv"
      ]
    },
    {
      "cell_type": "markdown",
      "metadata": {},
      "source": [
        "# Utils"
      ]
    },
    {
      "cell_type": "code",
      "execution_count": 2,
      "metadata": {},
      "outputs": [],
      "source": [
        "def read_json_from_zip(zip_file_path, json_file_name):\n",
        "    \"\"\"\n",
        "    Function to read a JSON file from a ZIP archive.\n",
        "\n",
        "    Parameters:\n",
        "        zip_file_path (str): Path to the ZIP archive.\n",
        "        json_file_name (str): Name of the JSON file within the ZIP archive.\n",
        "\n",
        "    Returns:\n",
        "        dict: Dictionary containing the JSON data.\n",
        "    \"\"\"\n",
        "    try:\n",
        "        # Open the zip file\n",
        "        with zipfile.ZipFile(zip_file_path, 'r') as zip_ref:\n",
        "            # Extract the JSON file from the zip archive\n",
        "            with zip_ref.open(json_file_name) as json_file:\n",
        "                # Read the JSON data\n",
        "                json_data = json.load(json_file)\n",
        "        return json_data\n",
        "    except Exception as e:\n",
        "        print(f\"Error reading JSON from ZIP: {e}\")\n",
        "        return None"
      ]
    },
    {
      "cell_type": "code",
      "execution_count": 3,
      "metadata": {},
      "outputs": [],
      "source": [
        "def split_words(text):\n",
        "    pattern = r\"\\b\\w+(?:'\\w+)?\\b|\\w+\"\n",
        "    return re.findall(pattern, text)"
      ]
    },
    {
      "cell_type": "code",
      "execution_count": 4,
      "metadata": {
        "id": "GuSs2EcaKFn0"
      },
      "outputs": [],
      "source": [
        "def print_key_structure(d, indent=0):\n",
        "    for key, value in d.items():\n",
        "        print('  ' * indent + str(key))\n",
        "        if isinstance(value, dict):\n",
        "            print_key_structure(value, indent + 1)"
      ]
    },
    {
      "cell_type": "code",
      "execution_count": 5,
      "metadata": {},
      "outputs": [],
      "source": [
        "def find_maximal_complete_graphs(edges):\n",
        "    nodes = set()\n",
        "    for edge in edges:\n",
        "        nodes.update(edge)\n",
        "    nodes = sorted(nodes)\n",
        "\n",
        "    adjacency_dict = {node: set() for node in nodes}\n",
        "    for edge in edges:\n",
        "        node1, node2 = edge\n",
        "        adjacency_dict[node1].add(node2)\n",
        "        adjacency_dict[node2].add(node1)\n",
        "\n",
        "    visited = set()\n",
        "    maximal_complete_graphs = []\n",
        "\n",
        "    for node in nodes:\n",
        "        if node not in visited:\n",
        "            queue = [node]\n",
        "            component = set()\n",
        "            while queue:\n",
        "                current = queue.pop(0)\n",
        "                visited.add(current)\n",
        "                component.add(current)\n",
        "                neighbors = adjacency_dict[current]\n",
        "                for neighbor in neighbors:\n",
        "                    if neighbor not in visited:\n",
        "                        queue.append(neighbor)\n",
        "            maximal_complete_graphs.append(component)\n",
        "\n",
        "    return maximal_complete_graphs"
      ]
    },
    {
      "cell_type": "code",
      "execution_count": 6,
      "metadata": {},
      "outputs": [],
      "source": [
        "def find_random_cycle(G, cycles=None, numbers=1000):\n",
        "  if cycles is None:\n",
        "      cycles = []\n",
        "\n",
        "  nodes = list(G.nodes())\n",
        "  for step in range(numbers):\n",
        "      idx = np.random.randint(len(nodes))\n",
        "      try:\n",
        "          cycle = nx.find_cycle(G, source=nodes[idx])\n",
        "          cycles.append(cycle)\n",
        "      except nx.NetworkXNoCycle:\n",
        "          pass\n",
        "  unique_cycles = []\n",
        "  for sublist in cycles:\n",
        "      if sublist not in unique_cycles:\n",
        "          unique_cycles.append(sublist)\n",
        "  return unique_cycles"
      ]
    },
    {
      "cell_type": "markdown",
      "metadata": {},
      "source": [
        "# Wordup Analysis"
      ]
    },
    {
      "cell_type": "code",
      "execution_count": 7,
      "metadata": {
        "id": "65eRujhDKdX7"
      },
      "outputs": [],
      "source": [
        "def lookup(word, wordup):\n",
        "  for ele in wordup:\n",
        "    if ele['root'] == word.lower(): return ele\n",
        "  return None"
      ]
    },
    {
      "cell_type": "code",
      "execution_count": 8,
      "metadata": {},
      "outputs": [],
      "source": [
        "def get_all_words(wordup):\n",
        "  words = set()\n",
        "  for word_def in wordup:\n",
        "    words.add(word_def['root'])\n",
        "    for sense in word_def['senses']:\n",
        "      words.update([ele.lower() for ele in split_words(sense['de'])])\n",
        "  return words"
      ]
    },
    {
      "cell_type": "code",
      "execution_count": 9,
      "metadata": {},
      "outputs": [],
      "source": [
        "def get_dependencies(wordup, lemmatize=True):\n",
        "  depd = dict()\n",
        "  for word_def in wordup:\n",
        "      depd[word_def['root'].lower()] = set()\n",
        "      for sense in word_def['senses']:\n",
        "        for ele in re.findall(r'\\b\\w+\\b', sense['de']):\n",
        "            depd[word_def['root'].lower()].add(ele.lower())\n",
        "  return depd"
      ]
    },
    {
      "cell_type": "code",
      "execution_count": 10,
      "metadata": {},
      "outputs": [],
      "source": [
        "def get_dependants(word_list, wordup):\n",
        "  result = set()\n",
        "  for word_def in wordup:\n",
        "    if word_def['root'] in word_list:\n",
        "      for sense in word_def['senses']:\n",
        "        result.update([ele.lower() for ele in re.findall(r'\\b\\w+\\b', sense['de']) if ele.isalpha()])\n",
        "  return result"
      ]
    },
    {
      "cell_type": "code",
      "execution_count": 11,
      "metadata": {},
      "outputs": [],
      "source": [
        "def get_dependers(word_list, wordup):\n",
        "  result = set()\n",
        "  for word_def in wordup:\n",
        "    for sense in word_def['senses']:\n",
        "      for ele in re.findall(r'\\b\\w+\\b', sense['de']):\n",
        "        if ele.lower() in word_list:\n",
        "          result.add(word_def['root'])\n",
        "  return result"
      ]
    },
    {
      "cell_type": "code",
      "execution_count": 12,
      "metadata": {},
      "outputs": [],
      "source": [
        "def get_minimal_wordlist(word_list, wordup):\n",
        "  result = set()\n",
        "  iter = 0\n",
        "\n",
        "  print(f\"Original list length: {len(word_list)}\")\n",
        "\n",
        "  while len(result) <= len(word_list) and iter < 20:\n",
        "    result = get_dependants(word_list, wordup)\n",
        "    iter += 1\n",
        "    print(f\"Reduced list length after {iter+1} iteration(s): {len(word_list)}\")\n",
        "    if word_list == result: \n",
        "      print(f\"Minimalization converges!\")\n",
        "      break\n",
        "    word_list = result \n",
        "    \n",
        "  \n",
        "  if len(result) > len(word_list):\n",
        "    print(\"Dependant list is longer than last list!\")\n",
        "\n",
        "\n",
        "  return sorted(list(result))"
      ]
    },
    {
      "cell_type": "markdown",
      "metadata": {},
      "source": [
        "# Morpheme Analysis"
      ]
    },
    {
      "cell_type": "code",
      "execution_count": 13,
      "metadata": {},
      "outputs": [],
      "source": [
        "def get_morpheme_dict():\n",
        "  path = \"D:\\Projects\\play-with-words\\morphemes\\lookup.csv\"\n",
        "  morpheme_dict = dict()\n",
        "  with open(path, 'r', newline='', encoding='utf-8') as csv_file:\n",
        "      csv_reader = csv.reader(csv_file)\n",
        "      next(csv_reader)\n",
        "      for row in csv_reader:\n",
        "          morpheme_dict[row[0]] = row[1].split(\" \")\n",
        "  return morpheme_dict"
      ]
    },
    {
      "cell_type": "code",
      "execution_count": 14,
      "metadata": {},
      "outputs": [],
      "source": [
        "def get_affix_dict(param='pre' or 'suf' or all):\n",
        "  if param == 'pre': path = \"D:\\Projects\\play-with-words\\morphemes\\prefixes.csv\"\n",
        "  elif param == 'suf':  path = \"D:\\Projects\\play-with-words\\morphemes\\suffixes.csv\"\n",
        "  else: \n",
        "    raise TypeError(\"Parameter must be 'pre' or 'suf'\")\n",
        "\n",
        "  result = set()\n",
        "  with open(path, 'r', newline='', encoding='utf-8') as csv_file:\n",
        "      csv_reader = csv.reader(csv_file)\n",
        "      next(csv_reader)\n",
        "      for row in csv_reader:\n",
        "          result.add(row[0])\n",
        "  return list(result)"
      ]
    },
    {
      "cell_type": "code",
      "execution_count": 15,
      "metadata": {},
      "outputs": [],
      "source": [
        "def get_root_dict():\n",
        "  morpheme_dict = get_morpheme_dict()\n",
        "  root_dict = dict()\n",
        "\n",
        "  for word, morphemes in morpheme_dict.items():\n",
        "    if len(morphemes) == 1:\n",
        "      root_dict[word] = morphemes[0]\n",
        "      continue\n",
        "    \n",
        "    found = False\n",
        "\n",
        "    for morpheme in morphemes:\n",
        "      if '##' not in morpheme:\n",
        "        root_dict[word] = [morpheme]\n",
        "        found = True\n",
        "    \n",
        "    if not found:\n",
        "      \"\"\" Take all prefixes as roots \"\"\"\n",
        "      root_dict[word] = [morpheme.replace(\"##\", \"\") for morpheme in morphemes if re.match(r'.*##$', morpheme)]\n",
        "      \n",
        "  return root_dict"
      ]
    },
    {
      "cell_type": "code",
      "execution_count": 16,
      "metadata": {},
      "outputs": [],
      "source": [
        "def get_minimal_root_list(minimal_word_list, morpheme_dict):\n",
        "  minimal_root_list = set()\n",
        "  for word in minimal_word_list:\n",
        "    if word in root_dict.keys():\n",
        "      minimal_root_list.update(root_dict[word])\n",
        "    else:\n",
        "      minimal_root_list.add(word)\n",
        "      \n",
        "  return sorted(list(minimal_root_list))"
      ]
    },
    {
      "cell_type": "markdown",
      "metadata": {},
      "source": [
        "# Execution"
      ]
    },
    {
      "cell_type": "code",
      "execution_count": 17,
      "metadata": {},
      "outputs": [],
      "source": [
        "wordup_raw = read_json_from_zip(\"D:\\Projects\\play-with-words\\wordup.zip\", \"wordup.json\")"
      ]
    },
    {
      "cell_type": "code",
      "execution_count": 18,
      "metadata": {},
      "outputs": [
        {
          "data": {
            "text/plain": [
              "{'props': {'pageProps': {'currentWord': {'wordRoot': 'berserk',\n",
              "    'id': 20639,\n",
              "    'phonemic': 'bÉ\\x99Ë\\x88sÉ\\x9cË\\x90k|bÉ\\x99rË\\x88zÉ\\x9cË\\x90rk,bÉ\\x99rË\\x88sÉ\\x9cË\\x90rk\\r',\n",
              "    'bigId': '2e24f52e-4d36-493b-8780-c1a07db47517'},\n",
              "   'senses': [{'id': '2e24f52e-4d36-493b-8780-c1a07db47517',\n",
              "     'de': 'Out of control with anger or excitement.',\n",
              "     'do': None,\n",
              "     'ty': 'adjective',\n",
              "     'ex': 'He went berserk when he found out that he lost his job.',\n",
              "     'use': 'Modern',\n",
              "     'co': None,\n",
              "     'fo': None,\n",
              "     'sy': 'Wild, Mad, Crazy',\n",
              "     'op': 'Calm, Controlled, Composed',\n",
              "     'gr': None,\n",
              "     're': '',\n",
              "     'br': False,\n",
              "     'am': False,\n",
              "     'cl': ['go berserk', ' drive someone berserk', ' run berserk'],\n",
              "     'ImageSrc': 'https://word-images.cdn-wordup.com/senses/2e24f52e-4d36-493b-8780-c1a07db47517.webp?v=1'},\n",
              "    {'id': '215e71b8-e3c1-4b1b-a029-11dd70478af6',\n",
              "     'de': 'Marked by wild or frenzied behavior suggestive of sudden mental imbalance.',\n",
              "     'do': None,\n",
              "     'ty': 'adjective',\n",
              "     'ex': 'The crowd went berserk when the rock star came on stage.',\n",
              "     'use': 'Modern',\n",
              "     'co': None,\n",
              "     'fo': None,\n",
              "     'sy': 'Furious, Rabid, Frenetic',\n",
              "     'op': 'Sane, Balanced, Sensible',\n",
              "     'gr': None,\n",
              "     're': '',\n",
              "     'br': False,\n",
              "     'am': False,\n",
              "     'cl': ['drive someone berserk',\n",
              "      ' go completely berserk',\n",
              "      ' went absolutely berserk'],\n",
              "     'ImageSrc': 'https://word-images.cdn-wordup.com/senses/215e71b8-e3c1-4b1b-a029-11dd70478af6.webp?v=1'},\n",
              "    {'id': 'a3624a80-306e-4ae4-ab3a-73226f7d4af8',\n",
              "     'de': 'Wild or frenzied in activity.',\n",
              "     'do': None,\n",
              "     'ty': 'adjective',\n",
              "     'ex': 'The berserk wind madly scattered the fallen leaves.',\n",
              "     'use': 'Modern',\n",
              "     'co': 'Poetic',\n",
              "     'fo': None,\n",
              "     'sy': 'Raving, Wild, Manic',\n",
              "     'op': 'Calm, Still, Peaceful',\n",
              "     'gr': None,\n",
              "     're': '',\n",
              "     'br': False,\n",
              "     'am': False,\n",
              "     'cl': ['a berserk storm', ' a berserk frenzy', ' running berserk'],\n",
              "     'ImageSrc': 'https://word-images.cdn-wordup.com/senses/a3624a80-306e-4ae4-ab3a-73226f7d4af8.webp?v=1'}],\n",
              "   'comparisons': {'Crazy': {'wordRoot': 'Crazy',\n",
              "     'wordDefinition': 'Crazy is a more general term that can refer to someone who behaves oddly, irrationally or unpredictably for a variety of reasons, such as mental health issues, drug use, or even just being excited about something.\\n\\nBerserk describes an extreme or sudden outburst of violence or aggression, while crazy is a more general term used to describe erratic behavior.',\n",
              "     'wordImage': 'https://word-images.cdn-wordup.com/senses/4ab3c9ac-f2b0-4f6d-9c07-2695d50f6c1d.webp?v=1'},\n",
              "    'Deranged': {'wordRoot': 'Deranged',\n",
              "     'wordDefinition': 'Berserk refers to someone who is out of control, extremely violent, and out of their mind with rage. Deranged refers to someone who is mentally unstable, insane, or irrational.\\n\\nDeranged usually describes someone who has mental health issues that cause them to behave abnormally or dangerously, such as a person who talks to themselves and has trouble distinguishing reality from fantasy.\\n\\nBerserk describes an out of control action or behavior, while deranged describes a state of mind.',\n",
              "     'wordImage': 'https://word-images.cdn-wordup.com/senses/9547cfca-5619-4500-8e1c-bbf4577fdc82.webp?v=1'},\n",
              "    'Frenzied': {'wordRoot': 'Frenzied',\n",
              "     'wordDefinition': 'Frenzied refers to a state of intense excitement or activity.\\n\\nBerserk is more extreme and negative in connotation, while frenzied can have both positive and negative connotations.',\n",
              "     'wordImage': 'https://word-images.cdn-wordup.com/senses/a73362d8-661f-4768-9ae5-23a5564df79d.webp?v=1'},\n",
              "    'Insane': {'wordRoot': 'Insane',\n",
              "     'wordDefinition': 'Insane refers to a more long-term mental illness characterized by delusional thinking, impaired judgment, and a loss of touch with reality.\\n\\nBerserk refers to a sudden outburst of violent behavior, while insane describes a more long-term mental illness.',\n",
              "     'wordImage': 'https://word-images.cdn-wordup.com/senses/88103788-447b-4456-9a3f-17da3da55acd.webp?v=1'},\n",
              "    'Irrational': {'wordRoot': 'Irrational',\n",
              "     'wordDefinition': 'Irrational means lacking reason or logic. It describes a thought or behavior that is not based on rational thinking or sound judgment.\\n\\nSo, while berserk relates to a specific type of behavior, irrational is a broader term that can refer to various types of thoughts or actions.\\n\\nBerserk is applicable when someone is going mad with rage or excitement, while irrational is applicable when someone displays a lack of clear thinking or sound judgment.',\n",
              "     'wordImage': 'https://word-images.cdn-wordup.com/senses/c2b16c4a-59a8-460b-bda7-c5582965a7ca.webp?v=1'},\n",
              "    'Maniacal': {'wordRoot': 'Maniacal',\n",
              "     'wordDefinition': 'Maniacal refers to someone who is disturbed or mentally ill, often showing behavior that is extreme, irrational, and dangerous.\\n\\nBerserk is applicable when describing a sudden outburst of anger or fury, while maniacal is applicable when describing someone who exhibits erratic and obsessive behavior over a period of time.',\n",
              "     'wordImage': 'https://word-images.cdn-wordup.com/senses/4802b9fa-5dcd-44cd-8fdf-8052fa0093cd.webp?v=1'},\n",
              "    'Uncontrolled': {'wordRoot': 'Uncontrolled',\n",
              "     'wordDefinition': 'This term usually describes someone who is in a state of rage and is out of control. Uncontrolled means something that is not regulated or governed and can be applied to anything that is not being kept in check or restrained.\\n\\nFor example, an uncontrolled fire is a fire that is spreading without any attempt to contain it.\\n\\nBerserk refers to a person who has lost their mind and is acting violently and uncontrollably, while uncontrolled refers to any situation, object or event that is not being managed or restrained.',\n",
              "     'wordImage': 'https://word-images.cdn-wordup.com/senses/a709f6e6-d581-4712-af5d-d15480568554.webp?v=1'},\n",
              "    'Wild': {'wordRoot': 'Wild',\n",
              "     'wordDefinition': 'Wild typically refers to something that is untamed or unrestrained.\\n\\nIt can describe a wild animal or a person who is acting in a spontaneous or unpredictable way.\\n\\nThis word is applicable in situations where something is not under control or is in its natural state, such as a wild forest or a wild party.',\n",
              "     'wordImage': 'https://word-images.cdn-wordup.com/senses/63dc4d7a-7f31-4d63-8f95-3e14e7cd60fd.webp?v=1'}},\n",
              "   'videos': [{'Text': \" by the summer in the middle of the general campaign he said I've thought about the issue more I've changed my mind I'm gonna vote for this bill and many of his own supporters on his own site went very public berserk it was Senator Obama when they created it they changed the name later please get Feist so right within days of\",\n",
              "     'Title': 'How social media can...',\n",
              "     'VideoId': 'ASZJE15E0SY',\n",
              "     'Controls': 'start=786'},\n",
              "    {'Text': ' In experimental feeding in monkeys you can see that it actually downregulates a specific immune system modulator. The result is that what kills you is not the virus directly, but your own immune system overreacting, saying, \"Whatever this is so foreign I\\'m going berserk.\" The most of the deaths',\n",
              "     'Title': 'Laurie Garrett: What can...',\n",
              "     'VideoId': '2lJvr5UL2pQ',\n",
              "     'Controls': 'start=270'},\n",
              "    {'Text': \" that full moon and in the next full moon and during that period the males go absolutely berserk because the the females are in E stress and they roaring and they're shouting and screaming to the world and chasing each other around and that is done that has done\",\n",
              "     'Title': 'Safari Live - Day 182 PIPE...',\n",
              "     'VideoId': 'Zsx8mqDSxiI',\n",
              "     'Controls': 'start=9466'},\n",
              "    {'Text': \" It wasn't just a matter of tuning up some graphics routines. There were no graphics routines. There were no mouse drivers. So it was a necessity. But in the quarter-century since then, we've seen all of the fundamental supporting technologies go berserk.\",\n",
              "     'Title': 'Pointing to the future...',\n",
              "     'VideoId': 'b6YTQJVzwlI',\n",
              "     'Controls': 'start=60'},\n",
              "    {'Text': ' I\\'m going to vote for this bill.\" And many of his own supporters on his own site went very publicly berserk. It was Senator Obama when they created it. They changed the name later. \"Please get FISA right.\" Within days of this group being created',\n",
              "     'Title': 'Clay Shirky: How...',\n",
              "     'VideoId': 'c_iN_QubRs0',\n",
              "     'Controls': 'start=791'},\n",
              "    {'Text': \" The room went berserk -- as Frank Nelson Cole sat down, having delivered the only talk in the history of mathematics with no words. He admitted afterwards it wasn't that hard to do. It took focus. It took dedication.\",\n",
              "     'Title': 'Adam Spencer: Why I fell...',\n",
              "     'VideoId': 'B4xOFsygwr4',\n",
              "     'Controls': 'start=532'},\n",
              "    {'Text': \" was going berserk, and the closer I got, the more frenetic it became, and frantic. My God. I was there covering the 25th anniversary of the world's worst nuclear accident, as you can see by the look on my face,\",\n",
              "     'Title': 'Holly Morris: Why stay...',\n",
              "     'VideoId': '93hbqLBp_HI',\n",
              "     'Controls': 'start=20'},\n",
              "    {'Text': \" completes it. Yin is the inside space of a cup; it wouldn't be a cup without it. Yang is the cup. The coffee's heat, however, is yang, and its blackness is yin. Yang goes berserk sometimes,\",\n",
              "     'Title': 'The hidden meanings of...',\n",
              "     'VideoId': 'ezmR9Attpyc',\n",
              "     'Controls': 'start=111'},\n",
              "    {'Text': ' at a minimum. So it seems that even mere rumors of this kind of breakthrough could cause our species to go berserk. Now, one of the most frightening things, in my view, at this moment,',\n",
              "     'Title': 'Can we build AI without...',\n",
              "     'VideoId': '8nt3edWLgIg',\n",
              "     'Controls': 'start=595'},\n",
              "    {'Text': \" my life has been way of like actually looking at life this is the best part of my day you know wasn't a completely different place in my head carmine Jackie went berserk on each\",\n",
              "     'Title': \"Whole New Dog's Life PIPE...\",\n",
              "     'VideoId': 'yrTbolQY8ec',\n",
              "     'Controls': 'start=11'}],\n",
              "   'quotes': [{'ImageSrc': 'https://author.cdn-wordup.com/img-webp/kate-moss.webp?v=1',\n",
              "     'Text': \"I've met lots of interesting people, but Lucian Freud is the one who sticks out because I spent so much time with him. He taught me discipline, which I hadn't been taught properly before. If I was, like, two seconds, late, he would kick off. Once, I was three minutes late, and he went absolutely berserk.\",\n",
              "     'Title': 'English Model',\n",
              "     'Name': 'Kate Moss'},\n",
              "    {'ImageSrc': 'https://author.cdn-wordup.com/img-webp/vidya-balan.webp?v=1',\n",
              "     'Text': \"The stakes are high on every film now because there's the opening weekend. The first week is extremely crucial; increasingly, films are being judged in terms of opening day, opening weekend, then first week. People are going berserk promoting their films.\",\n",
              "     'Title': 'Indian Actress',\n",
              "     'Name': 'Vidya Balan'},\n",
              "    {'ImageSrc': 'https://author.cdn-wordup.com/img-webp/louis-c-k.webp?v=1',\n",
              "     'Text': \"When two kids are being completely berserk, and they're naked and throwing food around, sometimes I just let it go because I can see a future where they're going to be dressed, and they're going to be at school. So I kind of let stuff go sometimes.\",\n",
              "     'Title': 'American Comedian',\n",
              "     'Name': 'Louis C. K.'},\n",
              "    {'ImageSrc': 'https://author.cdn-wordup.com/img-webp/manoj-bajpayee.webp?v=1',\n",
              "     'Text': 'Stars have always been very good at what they do. They are born and blessed with charisma and power over the entire nation. One glimpse of a star makes people go berserk. Such magic cannot be created. You are born with it - or not.',\n",
              "     'Title': 'Indian Actor',\n",
              "     'Name': 'Manoj Bajpayee'},\n",
              "    {'ImageSrc': 'https://author.cdn-wordup.com/img-webp/hunter-s-thompson.webp?v=1',\n",
              "     'Text': 'The behavior of the crowd at Churchill Downs is like 100,000 vicious Hyenas going berserk all at once in a space about the size of a 777 jet or the White House lawn.',\n",
              "     'Title': 'American Journalist',\n",
              "     'Name': 'Hunter S. Thompson'},\n",
              "    {'ImageSrc': 'https://author.cdn-wordup.com/img-webp/robert-ben-garant.webp?v=1',\n",
              "     'Text': \"Paul Rudd's a really weird, silly, silly man. He gets on 'Friends,' and he gets to show, like, one tiny little window of how truly berserk he can be.\",\n",
              "     'Title': 'American Producer',\n",
              "     'Name': 'Robert Ben Garant'},\n",
              "    {'ImageSrc': 'https://author.cdn-wordup.com/img-webp/mark-frost.webp?v=1',\n",
              "     'Text': 'It is interesting the way you create something and send it out into the culture, and then the culture kind of goes berserk.',\n",
              "     'Title': 'American Novelist',\n",
              "     'Name': 'Mark Frost'},\n",
              "    {'ImageSrc': 'https://author.cdn-wordup.com/img-webp/george-a-sheehan.webp?v=1',\n",
              "     'Text': 'If you want to win anything - a race, yourself, your life - you have to go a little berserk.',\n",
              "     'Title': 'American Writer',\n",
              "     'Name': 'George A. Sheehan'},\n",
              "    {'ImageSrc': 'https://author.cdn-wordup.com/img-webp/adam-mckay.webp?v=1',\n",
              "     'Text': 'Nothing heightens chaos more than a berserk wild animal right in the middle.',\n",
              "     'Title': 'American Writer',\n",
              "     'Name': 'Adam McKay'},\n",
              "    {'ImageSrc': 'https://author.cdn-wordup.com/img-webp/bill-rodgers.webp?v=1',\n",
              "     'Text': 'If you want to win a race you have to go a little berserk.',\n",
              "     'Title': 'American Athlete',\n",
              "     'Name': 'Bill Rodgers'}]},\n",
              "  '__N_SSG': True},\n",
              " 'page': '/dictionary/[slug]',\n",
              " 'query': {'slug': 'berserk'},\n",
              " 'buildId': '0EjQMJcW3EvFhruvv9j8s',\n",
              " 'isFallback': False,\n",
              " 'dynamicIds': [7796, 2856],\n",
              " 'gsp': True,\n",
              " 'scriptLoader': []}"
            ]
          },
          "execution_count": 18,
          "metadata": {},
          "output_type": "execute_result"
        }
      ],
      "source": [
        "wordup_raw[0]"
      ]
    },
    {
      "cell_type": "code",
      "execution_count": 18,
      "metadata": {},
      "outputs": [
        {
          "data": {
            "text/plain": [
              "34261"
            ]
          },
          "execution_count": 18,
          "metadata": {},
          "output_type": "execute_result"
        }
      ],
      "source": [
        "words = get_all_words(wordup)\n",
        "len(words)"
      ]
    },
    {
      "cell_type": "code",
      "execution_count": 19,
      "metadata": {},
      "outputs": [
        {
          "name": "stdout",
          "output_type": "stream",
          "text": [
            "Original list length: 24287\n",
            "Reduced list length after 2 iteration(s): 24287\n",
            "Reduced list length after 3 iteration(s): 19638\n",
            "Reduced list length after 4 iteration(s): 14560\n",
            "Reduced list length after 5 iteration(s): 13528\n",
            "Reduced list length after 6 iteration(s): 13296\n",
            "Reduced list length after 7 iteration(s): 13257\n",
            "Reduced list length after 8 iteration(s): 13240\n",
            "Reduced list length after 9 iteration(s): 13236\n",
            "Minimalization converges!\n"
          ]
        }
      ],
      "source": [
        "minimal_word_list = get_minimal_wordlist([word_def['root'] for word_def in wordup], wordup)"
      ]
    },
    {
      "cell_type": "code",
      "execution_count": 20,
      "metadata": {},
      "outputs": [],
      "source": [
        "morpheme_dict = get_morpheme_dict()"
      ]
    },
    {
      "cell_type": "code",
      "execution_count": 22,
      "metadata": {},
      "outputs": [],
      "source": [
        "prefixes = get_affix_dict('pre')\n",
        "suffixes = get_affix_dict('suf')"
      ]
    },
    {
      "cell_type": "code",
      "execution_count": 23,
      "metadata": {},
      "outputs": [],
      "source": [
        "root_dict = get_root_dict()"
      ]
    },
    {
      "cell_type": "code",
      "execution_count": 24,
      "metadata": {},
      "outputs": [],
      "source": [
        "minimal_root_list = get_minimal_root_list(minimal_word_list, morpheme_dict)"
      ]
    },
    {
      "cell_type": "code",
      "execution_count": 25,
      "metadata": {},
      "outputs": [
        {
          "data": {
            "text/plain": [
              "7013"
            ]
          },
          "execution_count": 25,
          "metadata": {},
          "output_type": "execute_result"
        }
      ],
      "source": [
        "len(minimal_root_list)"
      ]
    },
    {
      "cell_type": "code",
      "execution_count": 27,
      "metadata": {},
      "outputs": [
        {
          "data": {
            "text/plain": [
              "True"
            ]
          },
          "execution_count": 27,
          "metadata": {},
          "output_type": "execute_result"
        }
      ],
      "source": [
        "'techno' in minimal_root_list"
      ]
    },
    {
      "cell_type": "code",
      "execution_count": 35,
      "metadata": {},
      "outputs": [
        {
          "data": {
            "text/plain": [
              "list"
            ]
          },
          "execution_count": 35,
          "metadata": {},
          "output_type": "execute_result"
        }
      ],
      "source": [
        "type(minimal_root_list)"
      ]
    },
    {
      "cell_type": "code",
      "execution_count": 37,
      "metadata": {},
      "outputs": [],
      "source": [
        "word_set = set(words)\n",
        "word_set.update(minimal_root_list)\n",
        "wordup_roots = set(word_def['root'] for word_def in wordup)\n",
        "words_to_scrape = word_set - wordup_roots"
      ]
    },
    {
      "cell_type": "code",
      "execution_count": 40,
      "metadata": {},
      "outputs": [],
      "source": [
        "with open(\"D:/Projects/play-with-words/to-scrape.txt\", \"w\") as txt_file:\n",
        "    for word in words_to_scrape:\n",
        "        txt_file.write(word + \"\\n\")"
      ]
    }
  ],
  "metadata": {
    "colab": {
      "provenance": []
    },
    "kernelspec": {
      "display_name": "Python 3",
      "name": "python3"
    },
    "language_info": {
      "codemirror_mode": {
        "name": "ipython",
        "version": 3
      },
      "file_extension": ".py",
      "mimetype": "text/x-python",
      "name": "python",
      "nbconvert_exporter": "python",
      "pygments_lexer": "ipython3",
      "version": "3.11.7"
    }
  },
  "nbformat": 4,
  "nbformat_minor": 0
}
