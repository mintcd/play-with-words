{
  "cells": [
    {
      "cell_type": "code",
      "execution_count": 2,
      "metadata": {
        "id": "NInWPV9KYuXx"
      },
      "outputs": [],
      "source": [
        "import requests\n",
        "from bs4 import BeautifulSoup\n",
        "import json\n",
        "import threading\n",
        "import re\n",
        "import numpy as np\n",
        "from functools import reduce\n",
        "from multiprocessing import Pool\n",
        "from itertools import combinations"
      ]
    },
    {
      "cell_type": "code",
      "execution_count": 2,
      "metadata": {
        "id": "I98gz_3ofxp_"
      },
      "outputs": [],
      "source": [
        "threads = []\n",
        "num_threads = 20"
      ]
    },
    {
      "cell_type": "code",
      "execution_count": null,
      "metadata": {
        "id": "Ao68U-OvfRh5"
      },
      "outputs": [],
      "source": [
        "print(len(scraped_word))\n",
        "for i in range(num_threads):\n",
        "    t = threading.Thread(target=scrape_thread, args=(i, word_list, scraped_word))\n",
        "    threads.append(t)\n",
        "    t.start()\n",
        "\n",
        "for t in threads:\n",
        "    t.join()\n",
        "\n",
        "print(\"All tasks completed\")\n",
        "print(len(scraped_word))"
      ]
    },
    {
      "cell_type": "code",
      "execution_count": null,
      "metadata": {},
      "outputs": [],
      "source": [
        "def get_unfound(wordup):\n",
        "    words = set()\n",
        "    for word in wordup:\n",
        "      words.add(word['currentWord']['wordRoot'].lower())\n",
        "      for comp in word['comparisons'].keys():\n",
        "        words.add(comp.lower())\n",
        "\n",
        "    unfound = set()\n",
        "    for word in list(words):\n",
        "      if not lookup(word, wordup):\n",
        "        unfound.add(word)\n",
        "\n",
        "    return unfound"
      ]
    },
    {
      "cell_type": "code",
      "execution_count": null,
      "metadata": {},
      "outputs": [],
      "source": []
    }
  ],
  "metadata": {
    "colab": {
      "provenance": []
    },
    "kernelspec": {
      "display_name": "Python 3",
      "name": "python3"
    },
    "language_info": {
      "codemirror_mode": {
        "name": "ipython",
        "version": 3
      },
      "file_extension": ".py",
      "mimetype": "text/x-python",
      "name": "python",
      "nbconvert_exporter": "python",
      "pygments_lexer": "ipython3",
      "version": "3.11.7"
    }
  },
  "nbformat": 4,
  "nbformat_minor": 0
}
